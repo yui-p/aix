{
  "nbformat": 4,
  "nbformat_minor": 0,
  "metadata": {
    "colab": {
      "name": "word2vec_novel.ipynb",
      "provenance": [],
      "collapsed_sections": []
    },
    "kernelspec": {
      "name": "python3",
      "display_name": "Python 3"
    }
  },
  "cells": [
    {
      "cell_type": "markdown",
      "metadata": {
        "id": "oCJi1mR5fjtP",
        "colab_type": "text"
      },
      "source": [
        "[Open with Colab](https://colab.research.google.com/github/yui-p/aix/blob/master/word2vec_novel.ipynb)"
      ]
    },
    {
      "cell_type": "code",
      "metadata": {
        "id": "Ie966ntEjWmP",
        "colab_type": "code",
        "colab": {}
      },
      "source": [
        "# モデル・小説テキストデータのダウンロードと解凍\n",
        "!wget http://130.153.158.5/~inaba/aix.zip\n",
        "!unzip -u aix.zip "
      ],
      "execution_count": null,
      "outputs": []
    },
    {
      "cell_type": "code",
      "metadata": {
        "id": "tPDy4hcMd3y_",
        "colab_type": "code",
        "colab": {}
      },
      "source": [
        "from gensim.models import word2vec\n",
        "import random\n",
        "\n",
        "# 学習済モデル読み込み\n",
        "# UserWarningは無視して構わない\n",
        "model = word2vec.Word2Vec.load(\"narou.model\")"
      ],
      "execution_count": null,
      "outputs": []
    },
    {
      "cell_type": "code",
      "metadata": {
        "id": "UZel8rZdfyuK",
        "colab_type": "code",
        "colab": {}
      },
      "source": [
        "use_file = \"text100.txt\" # 1~100件目の小説データ\n",
        "# use_file = \"text200.txt\" # 101~200件目の小説データ\n",
        "# use_file = \"text300.txt\" # 201~300件目の小説データ\n",
        "\n",
        "\n",
        "# テキストファイル読み込み\n",
        "with open(use_file, \"r\", encoding=\"utf_8\") as f:\n",
        "    lines = f.readlines()"
      ],
      "execution_count": null,
      "outputs": []
    },
    {
      "cell_type": "code",
      "metadata": {
        "id": "LAxvRybBfyIx",
        "colab_type": "code",
        "colab": {}
      },
      "source": [
        "while(True):\n",
        "    u = input(\"\\n>\")\n",
        "    if \"exit\" == u:\n",
        "        break\n",
        "    else:\n",
        "        # 入力した単語と類似した単語を出力\n",
        "        try:\n",
        "            synonym = model.wv.most_similar(u)[0][0]\n",
        "        except KeyError:\n",
        "            print(\"登録されている単語ではありませんでした。\")\n",
        "            continue\n",
        "        # 類似した単語が含まれている行を調べる\n",
        "        in_synonym_indexs = [i for i, s in enumerate(lines) if synonym in s]\n",
        "        if in_synonym_indexs:\n",
        "            # 調べた行の中からランダムに一つ選び前後一行と共に置換しつつ出力\n",
        "            target_index = random.choice(in_synonym_indexs)\n",
        "            try:\n",
        "                result = lines[target_index-1] + lines[target_index] + lines[target_index+1]\n",
        "                print(result.replace(synonym, u))\n",
        "            except IndexError:\n",
        "                print(\"正しくないindexを指定しました。\")\n",
        "        else:\n",
        "            print(\"検索した単語を含んだ文章が見つかりませんでした。\")"
      ],
      "execution_count": null,
      "outputs": []
    }
  ]
}